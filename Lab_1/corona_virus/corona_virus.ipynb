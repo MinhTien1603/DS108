{
 "cells": [
  {
   "cell_type": "code",
   "execution_count": 14,
   "metadata": {},
   "outputs": [],
   "source": [
    "import numpy as np\n",
    "import pandas as pd\n"
   ]
  },
  {
   "cell_type": "code",
   "execution_count": 15,
   "metadata": {},
   "outputs": [],
   "source": [
    "coronaData = pd.read_csv(\"data/covid_19_data.csv\")"
   ]
  },
  {
   "cell_type": "code",
   "execution_count": 17,
   "metadata": {},
   "outputs": [
    {
     "name": "stdout",
     "output_type": "stream",
     "text": [
      "306429\n",
      "8\n"
     ]
    }
   ],
   "source": [
    "print(coronaData.shape[0])\n",
    "print(coronaData.shape[1])\n"
   ]
  },
  {
   "cell_type": "code",
   "execution_count": 19,
   "metadata": {},
   "outputs": [
    {
     "data": {
      "text/html": [
       "<div>\n",
       "<style scoped>\n",
       "    .dataframe tbody tr th:only-of-type {\n",
       "        vertical-align: middle;\n",
       "    }\n",
       "\n",
       "    .dataframe tbody tr th {\n",
       "        vertical-align: top;\n",
       "    }\n",
       "\n",
       "    .dataframe thead th {\n",
       "        text-align: right;\n",
       "    }\n",
       "</style>\n",
       "<table border=\"1\" class=\"dataframe\">\n",
       "  <thead>\n",
       "    <tr style=\"text-align: right;\">\n",
       "      <th></th>\n",
       "      <th>SNo</th>\n",
       "      <th>ObservationDate</th>\n",
       "      <th>Province/State</th>\n",
       "      <th>Country/Region</th>\n",
       "      <th>Last Update</th>\n",
       "      <th>Confirmed</th>\n",
       "      <th>Deaths</th>\n",
       "      <th>Recovered</th>\n",
       "    </tr>\n",
       "  </thead>\n",
       "  <tbody>\n",
       "    <tr>\n",
       "      <th>0</th>\n",
       "      <td>1</td>\n",
       "      <td>01/22/2020</td>\n",
       "      <td>Anhui</td>\n",
       "      <td>Mainland China</td>\n",
       "      <td>1/22/2020 17:00</td>\n",
       "      <td>1.0</td>\n",
       "      <td>0.0</td>\n",
       "      <td>0.0</td>\n",
       "    </tr>\n",
       "    <tr>\n",
       "      <th>1</th>\n",
       "      <td>2</td>\n",
       "      <td>01/22/2020</td>\n",
       "      <td>Beijing</td>\n",
       "      <td>Mainland China</td>\n",
       "      <td>1/22/2020 17:00</td>\n",
       "      <td>14.0</td>\n",
       "      <td>0.0</td>\n",
       "      <td>0.0</td>\n",
       "    </tr>\n",
       "    <tr>\n",
       "      <th>2</th>\n",
       "      <td>3</td>\n",
       "      <td>01/22/2020</td>\n",
       "      <td>Chongqing</td>\n",
       "      <td>Mainland China</td>\n",
       "      <td>1/22/2020 17:00</td>\n",
       "      <td>6.0</td>\n",
       "      <td>0.0</td>\n",
       "      <td>0.0</td>\n",
       "    </tr>\n",
       "    <tr>\n",
       "      <th>3</th>\n",
       "      <td>4</td>\n",
       "      <td>01/22/2020</td>\n",
       "      <td>Fujian</td>\n",
       "      <td>Mainland China</td>\n",
       "      <td>1/22/2020 17:00</td>\n",
       "      <td>1.0</td>\n",
       "      <td>0.0</td>\n",
       "      <td>0.0</td>\n",
       "    </tr>\n",
       "    <tr>\n",
       "      <th>4</th>\n",
       "      <td>5</td>\n",
       "      <td>01/22/2020</td>\n",
       "      <td>Gansu</td>\n",
       "      <td>Mainland China</td>\n",
       "      <td>1/22/2020 17:00</td>\n",
       "      <td>0.0</td>\n",
       "      <td>0.0</td>\n",
       "      <td>0.0</td>\n",
       "    </tr>\n",
       "    <tr>\n",
       "      <th>5</th>\n",
       "      <td>6</td>\n",
       "      <td>01/22/2020</td>\n",
       "      <td>Guangdong</td>\n",
       "      <td>Mainland China</td>\n",
       "      <td>1/22/2020 17:00</td>\n",
       "      <td>26.0</td>\n",
       "      <td>0.0</td>\n",
       "      <td>0.0</td>\n",
       "    </tr>\n",
       "    <tr>\n",
       "      <th>6</th>\n",
       "      <td>7</td>\n",
       "      <td>01/22/2020</td>\n",
       "      <td>Guangxi</td>\n",
       "      <td>Mainland China</td>\n",
       "      <td>1/22/2020 17:00</td>\n",
       "      <td>2.0</td>\n",
       "      <td>0.0</td>\n",
       "      <td>0.0</td>\n",
       "    </tr>\n",
       "    <tr>\n",
       "      <th>7</th>\n",
       "      <td>8</td>\n",
       "      <td>01/22/2020</td>\n",
       "      <td>Guizhou</td>\n",
       "      <td>Mainland China</td>\n",
       "      <td>1/22/2020 17:00</td>\n",
       "      <td>1.0</td>\n",
       "      <td>0.0</td>\n",
       "      <td>0.0</td>\n",
       "    </tr>\n",
       "    <tr>\n",
       "      <th>8</th>\n",
       "      <td>9</td>\n",
       "      <td>01/22/2020</td>\n",
       "      <td>Hainan</td>\n",
       "      <td>Mainland China</td>\n",
       "      <td>1/22/2020 17:00</td>\n",
       "      <td>4.0</td>\n",
       "      <td>0.0</td>\n",
       "      <td>0.0</td>\n",
       "    </tr>\n",
       "    <tr>\n",
       "      <th>9</th>\n",
       "      <td>10</td>\n",
       "      <td>01/22/2020</td>\n",
       "      <td>Hebei</td>\n",
       "      <td>Mainland China</td>\n",
       "      <td>1/22/2020 17:00</td>\n",
       "      <td>1.0</td>\n",
       "      <td>0.0</td>\n",
       "      <td>0.0</td>\n",
       "    </tr>\n",
       "  </tbody>\n",
       "</table>\n",
       "</div>"
      ],
      "text/plain": [
       "   SNo ObservationDate Province/State  Country/Region      Last Update  \\\n",
       "0    1      01/22/2020          Anhui  Mainland China  1/22/2020 17:00   \n",
       "1    2      01/22/2020        Beijing  Mainland China  1/22/2020 17:00   \n",
       "2    3      01/22/2020      Chongqing  Mainland China  1/22/2020 17:00   \n",
       "3    4      01/22/2020         Fujian  Mainland China  1/22/2020 17:00   \n",
       "4    5      01/22/2020          Gansu  Mainland China  1/22/2020 17:00   \n",
       "5    6      01/22/2020      Guangdong  Mainland China  1/22/2020 17:00   \n",
       "6    7      01/22/2020        Guangxi  Mainland China  1/22/2020 17:00   \n",
       "7    8      01/22/2020        Guizhou  Mainland China  1/22/2020 17:00   \n",
       "8    9      01/22/2020         Hainan  Mainland China  1/22/2020 17:00   \n",
       "9   10      01/22/2020          Hebei  Mainland China  1/22/2020 17:00   \n",
       "\n",
       "   Confirmed  Deaths  Recovered  \n",
       "0        1.0     0.0        0.0  \n",
       "1       14.0     0.0        0.0  \n",
       "2        6.0     0.0        0.0  \n",
       "3        1.0     0.0        0.0  \n",
       "4        0.0     0.0        0.0  \n",
       "5       26.0     0.0        0.0  \n",
       "6        2.0     0.0        0.0  \n",
       "7        1.0     0.0        0.0  \n",
       "8        4.0     0.0        0.0  \n",
       "9        1.0     0.0        0.0  "
      ]
     },
     "execution_count": 19,
     "metadata": {},
     "output_type": "execute_result"
    }
   ],
   "source": [
    "coronaData.head(10)"
   ]
  },
  {
   "cell_type": "code",
   "execution_count": 21,
   "metadata": {},
   "outputs": [
    {
     "data": {
      "text/plain": [
       "Index(['SNo', 'ObservationDate', 'Province/State', 'Country/Region',\n",
       "       'Last Update', 'Confirmed', 'Deaths', 'Recovered'],\n",
       "      dtype='object')"
      ]
     },
     "execution_count": 21,
     "metadata": {},
     "output_type": "execute_result"
    }
   ],
   "source": [
    "coronaData.columns"
   ]
  },
  {
   "cell_type": "code",
   "execution_count": 43,
   "metadata": {},
   "outputs": [
    {
     "name": "stdout",
     "output_type": "stream",
     "text": [
      "['Mainland China' 'Hong Kong' 'Macau' 'Taiwan' 'US' 'Japan' 'Thailand'\n",
      " 'South Korea' 'China' 'Kiribati' 'Singapore' 'Philippines' 'Malaysia'\n",
      " 'Vietnam' 'Australia' 'Mexico' 'Brazil' 'Colombia' 'France' 'Nepal'\n",
      " 'Canada' 'Cambodia' 'Sri Lanka' 'Ivory Coast' 'Germany' 'Finland'\n",
      " 'United Arab Emirates' 'India' 'Italy' 'UK' 'Russia' 'Sweden' 'Spain'\n",
      " 'Belgium' 'Others' 'Egypt' 'Iran' 'Israel' 'Lebanon' 'Iraq' 'Oman'\n",
      " 'Afghanistan' 'Bahrain' 'Kuwait' 'Austria' 'Algeria' 'Croatia'\n",
      " 'Switzerland' 'Pakistan' 'Georgia' 'Greece' 'North Macedonia' 'Norway'\n",
      " 'Romania' 'Denmark' 'Estonia' 'Netherlands' 'San Marino' ' Azerbaijan'\n",
      " 'Belarus' 'Iceland' 'Lithuania' 'New Zealand' 'Nigeria' 'North Ireland'\n",
      " 'Ireland' 'Luxembourg' 'Monaco' 'Qatar' 'Ecuador' 'Azerbaijan'\n",
      " 'Czech Republic' 'Armenia' 'Dominican Republic' 'Indonesia' 'Portugal'\n",
      " 'Andorra' 'Latvia' 'Morocco' 'Saudi Arabia' 'Senegal' 'Argentina' 'Chile'\n",
      " 'Jordan' 'Ukraine' 'Saint Barthelemy' 'Hungary' 'Faroe Islands'\n",
      " 'Gibraltar' 'Liechtenstein' 'Poland' 'Tunisia' 'Palestine'\n",
      " 'Bosnia and Herzegovina' 'Slovenia' 'South Africa' 'Bhutan' 'Cameroon'\n",
      " 'Costa Rica' 'Peru' 'Serbia' 'Slovakia' 'Togo' 'Vatican City'\n",
      " 'French Guiana' 'Malta' 'Martinique' 'Republic of Ireland' 'Bulgaria'\n",
      " 'Maldives' 'Bangladesh' 'Moldova' 'Paraguay' 'Albania' 'Cyprus'\n",
      " 'St. Martin' 'Brunei' 'occupied Palestinian territory' \"('St. Martin',)\"\n",
      " 'Burkina Faso' 'Channel Islands' 'Holy See' 'Mongolia' 'Panama' 'Bolivia'\n",
      " 'Honduras' 'Congo (Kinshasa)' 'Jamaica' 'Reunion' 'Turkey' 'Cuba'\n",
      " 'Guyana' 'Kazakhstan' 'Cayman Islands' 'Guadeloupe' 'Ethiopia' 'Sudan'\n",
      " 'Guinea' 'Antigua and Barbuda' 'Aruba' 'Kenya' 'Uruguay' 'Ghana' 'Jersey'\n",
      " 'Namibia' 'Seychelles' 'Trinidad and Tobago' 'Venezuela' 'Curacao'\n",
      " 'Eswatini' 'Gabon' 'Guatemala' 'Guernsey' 'Mauritania' 'Rwanda'\n",
      " 'Saint Lucia' 'Saint Vincent and the Grenadines' 'Suriname' 'Kosovo'\n",
      " 'Central African Republic' 'Congo (Brazzaville)' 'Equatorial Guinea'\n",
      " 'Uzbekistan' 'Guam' 'Puerto Rico' 'Benin' 'Greenland' 'Liberia' 'Mayotte'\n",
      " 'Republic of the Congo' 'Somalia' 'Tanzania' 'The Bahamas' 'Barbados'\n",
      " 'Montenegro' 'The Gambia' 'Kyrgyzstan' 'Mauritius' 'Zambia' 'Djibouti'\n",
      " 'Gambia, The' 'Bahamas, The' 'Chad' 'El Salvador' 'Fiji' 'Nicaragua'\n",
      " 'Madagascar' 'Haiti' 'Angola' 'Cabo Verde' 'Niger' 'Papua New Guinea'\n",
      " 'Zimbabwe' 'Cape Verde' 'East Timor' 'Eritrea' 'Uganda' 'Bahamas'\n",
      " 'Dominica' 'Gambia' 'Grenada' 'Mozambique' 'Samoa' 'Syria' 'Timor-Leste'\n",
      " 'Belize' 'Laos' 'Libya' 'Diamond Princess' 'Guinea-Bissau' 'Mali'\n",
      " 'Saint Kitts and Nevis' 'West Bank and Gaza' 'Burma' 'MS Zaandam'\n",
      " 'Botswana' 'Burundi' 'Sierra Leone' 'Malawi' 'South Sudan'\n",
      " 'Sao Tome and Principe' 'Yemen' 'Comoros' 'Tajikistan' 'Lesotho'\n",
      " 'Solomon Islands' 'Marshall Islands' 'Vanuatu' 'Micronesia']\n"
     ]
    }
   ],
   "source": [
    "countryCorona = coronaData['Country/Region'].unique()\n",
    "print(countryCorona)\n"
   ]
  },
  {
   "cell_type": "code",
   "execution_count": 26,
   "metadata": {},
   "outputs": [
    {
     "name": "stdout",
     "output_type": "stream",
     "text": [
      "5863138.0\n"
     ]
    }
   ],
   "source": [
    "maxConfirmedCases = coronaData['Confirmed'].max()\n",
    "print(maxConfirmedCases)"
   ]
  },
  {
   "cell_type": "code",
   "execution_count": 28,
   "metadata": {},
   "outputs": [
    {
     "name": "stdout",
     "output_type": "stream",
     "text": [
      "           SNo ObservationDate Province/State  Country/Region  \\\n",
      "0            1      01/22/2020          Anhui  Mainland China   \n",
      "1            2      01/22/2020        Beijing  Mainland China   \n",
      "2            3      01/22/2020      Chongqing  Mainland China   \n",
      "3            4      01/22/2020         Fujian  Mainland China   \n",
      "4            5      01/22/2020          Gansu  Mainland China   \n",
      "...        ...             ...            ...             ...   \n",
      "306340  306341      05/29/2021          Tibet  Mainland China   \n",
      "306368  306369      05/29/2021        Unknown  Mainland China   \n",
      "306412  306413      05/29/2021       Xinjiang  Mainland China   \n",
      "306420  306421      05/29/2021         Yunnan  Mainland China   \n",
      "306426  306427      05/29/2021       Zhejiang  Mainland China   \n",
      "\n",
      "                Last Update  Confirmed  Deaths  Recovered   countryCorona  \n",
      "0           1/22/2020 17:00        1.0     0.0        0.0  Mainland China  \n",
      "1           1/22/2020 17:00       14.0     0.0        0.0  Mainland China  \n",
      "2           1/22/2020 17:00        6.0     0.0        0.0  Mainland China  \n",
      "3           1/22/2020 17:00        1.0     0.0        0.0  Mainland China  \n",
      "4           1/22/2020 17:00        0.0     0.0        0.0  Mainland China  \n",
      "...                     ...        ...     ...        ...             ...  \n",
      "306340  2021-05-30 04:20:55        1.0     0.0        1.0  Mainland China  \n",
      "306368  2021-05-30 04:20:55        0.0     0.0       10.0  Mainland China  \n",
      "306412  2021-05-30 04:20:55      980.0     3.0      977.0  Mainland China  \n",
      "306420  2021-05-30 04:20:55      352.0     2.0      331.0  Mainland China  \n",
      "306426  2021-05-30 04:20:55     1364.0     1.0     1324.0  Mainland China  \n",
      "\n",
      "[15758 rows x 9 columns]\n"
     ]
    }
   ],
   "source": [
    "coronaChina = coronaData[coronaData['Country/Region'] == 'Mainland China']\n",
    "print (coronaChina)"
   ]
  },
  {
   "cell_type": "code",
   "execution_count": null,
   "metadata": {},
   "outputs": [
    {
     "name": "stdout",
     "output_type": "stream",
     "text": [
      "298068    France\n",
      "Name: Country/Region, dtype: object\n"
     ]
    }
   ],
   "source": [
    "# Tìm số ca nhiễm lớn nhất\n",
    "maxConfirmedCases = coronaData[\"Confirmed\"].max()\n",
    "# Lọc các dòng có số ca nhiễm bằng giá trị lớn nhất\n",
    "maxCountryConfirmedCorona = coronaData.loc[coronaData[\"Confirmed\"] == maxConfirmedCases, \"Country/Region\"]\n",
    "print(maxCountryConfirmedCorona)"
   ]
  },
  {
   "cell_type": "code",
   "execution_count": 38,
   "metadata": {},
   "outputs": [
    {
     "name": "stdout",
     "output_type": "stream",
     "text": [
      "298068    NaN\n",
      "Name: Province/State, dtype: object\n"
     ]
    }
   ],
   "source": [
    "# Lọc các dòng có số ca nhiễm bằng giá trị lớn nhất\n",
    "maxProvinceConfirmedCorona = coronaData.loc[coronaData[\"Confirmed\"] == maxConfirmedCases, \"Province/State\"]\n",
    "print(maxProvinceConfirmedCorona)"
   ]
  },
  {
   "cell_type": "code",
   "execution_count": 45,
   "metadata": {},
   "outputs": [
    {
     "name": "stdout",
     "output_type": "stream",
     "text": [
      "     SNo ObservationDate Province/State  Country/Region      Last Update  \\\n",
      "0      1      2020-01-22          Anhui  Mainland China  1/22/2020 17:00   \n",
      "1      2      2020-01-22        Beijing  Mainland China  1/22/2020 17:00   \n",
      "2      3      2020-01-22      Chongqing  Mainland China  1/22/2020 17:00   \n",
      "3      4      2020-01-22         Fujian  Mainland China  1/22/2020 17:00   \n",
      "4      5      2020-01-22          Gansu  Mainland China  1/22/2020 17:00   \n",
      "..   ...             ...            ...             ...              ...   \n",
      "508  509      2020-01-31            NaN     Philippines  1/31/2020 23:59   \n",
      "509  510      2020-01-31            NaN           India  1/31/2020 23:59   \n",
      "510  511      2020-01-31            NaN          Sweden  1/31/2020 23:59   \n",
      "511  512      2020-01-31        Unknown           China  1/31/2020 23:59   \n",
      "512  513      2020-01-31            NaN        Kiribati  1/31/2020 23:59   \n",
      "\n",
      "     Confirmed  Deaths  Recovered  \n",
      "0          1.0     0.0        0.0  \n",
      "1         14.0     0.0        0.0  \n",
      "2          6.0     0.0        0.0  \n",
      "3          1.0     0.0        0.0  \n",
      "4          0.0     0.0        0.0  \n",
      "..         ...     ...        ...  \n",
      "508        1.0     0.0        0.0  \n",
      "509        1.0     0.0        0.0  \n",
      "510        1.0     0.0        0.0  \n",
      "511        0.0     0.0        0.0  \n",
      "512        0.0     0.0        0.0  \n",
      "\n",
      "[513 rows x 8 columns]\n"
     ]
    }
   ],
   "source": [
    "coronaData[\"ObservationDate\"] = pd.to_datetime(coronaData[\"ObservationDate\"], format=\"%d/%m/%Y\")\n",
    "start_date = \"2020-01-1\"\n",
    "end_date = \"2020-01-31\"\n",
    "data_jan = coronaData[(coronaData['ObservationDate'] >= start_date) & (coronaData['ObservationDate'] <= end_date)]\n",
    "print(data_jan)\n"
   ]
  }
 ],
 "metadata": {
  "kernelspec": {
   "display_name": ".venv",
   "language": "python",
   "name": "python3"
  },
  "language_info": {
   "codemirror_mode": {
    "name": "ipython",
    "version": 3
   },
   "file_extension": ".py",
   "mimetype": "text/x-python",
   "name": "python",
   "nbconvert_exporter": "python",
   "pygments_lexer": "ipython3",
   "version": "3.13.1"
  }
 },
 "nbformat": 4,
 "nbformat_minor": 2
}
